{
 "cells": [
  {
   "cell_type": "code",
   "execution_count": 1,
   "id": "98254923",
   "metadata": {},
   "outputs": [
    {
     "data": {
      "text/plain": [
       "[{'Seller Username': 'TestSeller1',\n",
       "  'Product ID': 'IHEG',\n",
       "  'Product Title': 'Far Cry 2',\n",
       "  'Product Type': 'Game CD',\n",
       "  'Price Per Day': 70,\n",
       "  'Total Stock Available': 10},\n",
       " {'Seller Username': 'TestSeller2',\n",
       "  'Product ID': 'D3KX',\n",
       "  'Product Title': 'CosmicByte',\n",
       "  'Product Type': 'Gaming Keyboard',\n",
       "  'Price Per Day': 100,\n",
       "  'Total Stock Available': 5},\n",
       " {'Seller Username': 'Ramk@31',\n",
       "  'Product ID': '790M',\n",
       "  'Product Title': 'pubg',\n",
       "  'Product Type': 'game cd',\n",
       "  'Price Per Day': 300,\n",
       "  'Total Stock Available': 15},\n",
       " {'Seller Username': 'Ramk@31',\n",
       "  'Product ID': 'Rak31',\n",
       "  'Product Title': 'Jumango',\n",
       "  'Product Type': 'Game CD',\n",
       "  'Price Per Day': 200,\n",
       "  'Total Stock Available': 10}]"
      ]
     },
     "execution_count": 1,
     "metadata": {},
     "output_type": "execute_result"
    }
   ],
   "source": [
    "[{\"Seller Username\": \"TestSeller1\", \"Product ID\": \"IHEG\", \"Product Title\": \"Far Cry 2\", \"Product Type\": \"Game CD\", \"Price Per Day\": 70, \"Total Stock Available\": 10}, {\"Seller Username\": \"TestSeller2\", \"Product ID\": \"D3KX\", \"Product Title\": \"CosmicByte\", \"Product Type\": \"Gaming Keyboard\", \"Price Per Day\": 100, \"Total Stock Available\": 5}, {\"Seller Username\": \"Ramk@31\", \"Product ID\": \"790M\", \"Product Title\": \"pubg\", \"Product Type\": \"game cd\", \"Price Per Day\": 300, \"Total Stock Available\": 15}, {\"Seller Username\": \"Ramk@31\", \"Product ID\": \"Rak31\", \"Product Title\": \"Jumango\", \"Product Type\": \"Game CD\", \"Price Per Day\": 200,\n",
    "  \"Total Stock Available\": 10}]"
   ]
  },
  {
   "cell_type": "code",
   "execution_count": null,
   "id": "cc62e581",
   "metadata": {},
   "outputs": [],
   "source": []
  }
 ],
 "metadata": {
  "kernelspec": {
   "display_name": "Python 3 (ipykernel)",
   "language": "python",
   "name": "python3"
  },
  "language_info": {
   "codemirror_mode": {
    "name": "ipython",
    "version": 3
   },
   "file_extension": ".py",
   "mimetype": "text/x-python",
   "name": "python",
   "nbconvert_exporter": "python",
   "pygments_lexer": "ipython3",
   "version": "3.10.9"
  }
 },
 "nbformat": 4,
 "nbformat_minor": 5
}
