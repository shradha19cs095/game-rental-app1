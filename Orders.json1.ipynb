{
 "cells": [
  {
   "cell_type": "code",
   "execution_count": 1,
   "id": "e082d136",
   "metadata": {},
   "outputs": [
    {
     "data": {
      "text/plain": [
       "[{'Order ID': 'OHF',\n",
       "  'Ordered by': 'Ramk@31',\n",
       "  'Items': [{'Product ID': 'IHEG',\n",
       "    'Quantity': 2,\n",
       "    'Price': 70,\n",
       "    'Booking Start Date': '2022-06-20',\n",
       "    'Booking End Date': '2022-10-10'},\n",
       "   {'Product ID': 'D3KX',\n",
       "    'Quantity': 1,\n",
       "    'Price': 100,\n",
       "    'Booking Start Date': '2022-09-13',\n",
       "    'Booking End Date': '2022-09-15'}],\n",
       "  'Total Cost': 4540}]"
      ]
     },
     "execution_count": 1,
     "metadata": {},
     "output_type": "execute_result"
    }
   ],
   "source": [
    "[{\"Order ID\": \"OHF\", \"Ordered by\": \"Ramk@31\", \"Items\": [{\"Product ID\": \"IHEG\", \"Quantity\": 2, \"Price\": 70, \"Booking Start Date\": \"2022-06-20\", \"Booking End Date\": \"2022-10-10\"}, {\"Product ID\": \"D3KX\", \"Quantity\": 1, \"Price\": 100, \"Booking Start Date\": \"2022-09-13\", \"Booking End Date\": \"2022-09-15\"}], \"Total Cost\": 4540}]"
   ]
  },
  {
   "cell_type": "code",
   "execution_count": null,
   "id": "a7475f02",
   "metadata": {},
   "outputs": [],
   "source": []
  }
 ],
 "metadata": {
  "kernelspec": {
   "display_name": "Python 3 (ipykernel)",
   "language": "python",
   "name": "python3"
  },
  "language_info": {
   "codemirror_mode": {
    "name": "ipython",
    "version": 3
   },
   "file_extension": ".py",
   "mimetype": "text/x-python",
   "name": "python",
   "nbconvert_exporter": "python",
   "pygments_lexer": "ipython3",
   "version": "3.10.9"
  }
 },
 "nbformat": 4,
 "nbformat_minor": 5
}
