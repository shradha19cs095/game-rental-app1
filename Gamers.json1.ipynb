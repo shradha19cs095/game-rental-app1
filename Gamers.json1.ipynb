{
 "cells": [
  {
   "cell_type": "code",
   "execution_count": 1,
   "id": "534d31b2",
   "metadata": {},
   "outputs": [
    {
     "data": {
      "text/plain": [
       "[{'Email': 'Gamer1@gmail.com',\n",
       "  'Username': 'TestGamer1',\n",
       "  'Password': 'Gamer1',\n",
       "  'Contact Number': '6667778899',\n",
       "  'Wishlist': [],\n",
       "  'Cart': [{'Product ID': 'IHEG',\n",
       "    'Quantity': 2,\n",
       "    'Price': 70,\n",
       "    'Booking Start Date': '2022-10-13',\n",
       "    'Booking End Date': '2022-11-13'},\n",
       "   {'Product ID': 'D3KX',\n",
       "    'Quantity': 1,\n",
       "    'Price': 100,\n",
       "    'Booking Start Date': '2022-09-13',\n",
       "    'Booking End Date': '2022-09-15'}]},\n",
       " {'Email': 'Gamer2@gmail.com',\n",
       "  'Username': 'TestGamer2',\n",
       "  'Password': 'Gamer2',\n",
       "  'Contact Number': '9786866409',\n",
       "  'Wishlist': ['D3KX'],\n",
       "  'Cart': []},\n",
       " {'Email': 'ram@gmail.com',\n",
       "  'Username': 'Ramk@31',\n",
       "  'Password': 'Rak31',\n",
       "  'Contact Number': '8825960625',\n",
       "  'Wishlist': ['RAK', 'IHEG'],\n",
       "  'Cart': []}]"
      ]
     },
     "execution_count": 1,
     "metadata": {},
     "output_type": "execute_result"
    }
   ],
   "source": [
    "[{\"Email\": \"Gamer1@gmail.com\", \"Username\": \"TestGamer1\", \"Password\": \"Gamer1\", \"Contact Number\": \"6667778899\", \"Wishlist\": [], \"Cart\": [{\"Product ID\": \"IHEG\", \"Quantity\": 2, \"Price\": 70, \"Booking Start Date\": \"2022-10-13\", \"Booking End Date\": \"2022-11-13\"}, {\"Product ID\": \"D3KX\", \"Quantity\": 1, \"Price\": 100, \"Booking Start Date\": \"2022-09-13\", \"Booking End Date\": \"2022-09-15\"}]}, {\"Email\": \"Gamer2@gmail.com\", \"Username\": \"TestGamer2\", \"Password\": \"Gamer2\", \"Contact Number\": \"9786866409\", \"Wishlist\": [\"D3KX\"], \"Cart\": []}, {\"Email\": \"ram@gmail.com\", \"Username\": \"Ramk@31\", \"Password\": \"Rak31\", \"Contact Number\": \"8825960625\", \"Wishlist\": [\"RAK\", \"IHEG\"], \"Cart\": []}]"
   ]
  },
  {
   "cell_type": "code",
   "execution_count": null,
   "id": "03f9cbcf",
   "metadata": {},
   "outputs": [],
   "source": []
  }
 ],
 "metadata": {
  "kernelspec": {
   "display_name": "Python 3 (ipykernel)",
   "language": "python",
   "name": "python3"
  },
  "language_info": {
   "codemirror_mode": {
    "name": "ipython",
    "version": 3
   },
   "file_extension": ".py",
   "mimetype": "text/x-python",
   "name": "python",
   "nbconvert_exporter": "python",
   "pygments_lexer": "ipython3",
   "version": "3.10.9"
  }
 },
 "nbformat": 4,
 "nbformat_minor": 5
}
