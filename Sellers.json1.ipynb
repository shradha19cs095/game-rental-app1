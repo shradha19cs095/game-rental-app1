{
 "cells": [
  {
   "cell_type": "code",
   "execution_count": 1,
   "id": "5296cb24",
   "metadata": {},
   "outputs": [
    {
     "data": {
      "text/plain": [
       "[{'Email': 'Seller1@gmail.com',\n",
       "  'Username': 'TestSeller1',\n",
       "  'Password': 'Seller1',\n",
       "  'Contact Number': '1234567890'},\n",
       " {'Email': 'Seller2@gmail.com',\n",
       "  'Username': 'TestSeller2',\n",
       "  'Password': 'Seller2',\n",
       "  'Contact Number': '1122334455'},\n",
       " {'Email': 'ram@admin.com',\n",
       "  'Username': 'ramk@31',\n",
       "  'Password': 'Rak31',\n",
       "  'Contact Number': '8825960620'}]"
      ]
     },
     "execution_count": 1,
     "metadata": {},
     "output_type": "execute_result"
    }
   ],
   "source": [
    "[{\"Email\": \"Seller1@gmail.com\", \"Username\": \"TestSeller1\", \"Password\": \"Seller1\", \"Contact Number\": \"1234567890\"}, {\"Email\": \"Seller2@gmail.com\", \"Username\": \"TestSeller2\", \"Password\": \"Seller2\", \"Contact Number\": \"1122334455\"}, {\"Email\": \"ram@admin.com\", \"Username\": \"ramk@31\", \"Password\": \"Rak31\", \"Contact Number\": \"8825960620\"}]"
   ]
  },
  {
   "cell_type": "code",
   "execution_count": null,
   "id": "86f70152",
   "metadata": {},
   "outputs": [],
   "source": []
  }
 ],
 "metadata": {
  "kernelspec": {
   "display_name": "Python 3 (ipykernel)",
   "language": "python",
   "name": "python3"
  },
  "language_info": {
   "codemirror_mode": {
    "name": "ipython",
    "version": 3
   },
   "file_extension": ".py",
   "mimetype": "text/x-python",
   "name": "python",
   "nbconvert_exporter": "python",
   "pygments_lexer": "ipython3",
   "version": "3.10.9"
  }
 },
 "nbformat": 4,
 "nbformat_minor": 5
}
